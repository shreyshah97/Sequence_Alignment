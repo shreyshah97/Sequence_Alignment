{
 "cells": [
  {
   "cell_type": "code",
   "execution_count": 16,
   "metadata": {},
   "outputs": [],
   "source": [
    "def generate_strings(lines):\n",
    "    \"\"\"\n",
    "    Generates and returns the strings generated from the input file.\n",
    "    \"\"\"\n",
    "    operation_counts = []\n",
    "    base_lengths = []\n",
    "    generated_strings = []\n",
    "    count=0\n",
    "    base_str = \"\"\n",
    "    # add extra line to denote eof\n",
    "    lines.append('e')\n",
    "\n",
    "    for line in lines:\n",
    "        line = line.strip()\n",
    "        if(line.isalpha()):\n",
    "            if count != 0:\n",
    "                generated_strings.append(base_str)\n",
    "                operation_counts.append(count)\n",
    "                count = 0\n",
    "            base_str = line\n",
    "            base_lengths.append(len(line))\n",
    "        else:\n",
    "            count += 1\n",
    "            insert_at = int(line) + 1\n",
    "            base_str = base_str[:insert_at] + base_str + base_str[insert_at:]\n",
    "            \n",
    "    return generated_strings, base_lengths, operation_counts\n",
    "\n",
    "assert generate_strings(['ACTG', '0']) == (['AACTGCTG'], [4, 1], [1])\n",
    "assert generate_strings(['ACTG', '1']) == (['ACACTGTG'], [4, 1], [1])\n",
    "assert generate_strings(['ACTG', '2']) == (['ACTACTGG'], [4, 1], [1])\n",
    "assert generate_strings(['ACTG', '3']) == (['ACTGACTG'], [4, 1], [1])\n",
    "assert generate_strings(['ACTG', '3', '6', '1', 'TACG', '1', '2', '9']) == (['ACACTGACTACTGACTGGTGACTACTGACTGG', 'TATTATACGCTATTATACGCGACGCGGACGCG'], [4, 4, 1], [3, 3])"
   ]
  },
  {
   "cell_type": "code",
   "execution_count": 28,
   "metadata": {},
   "outputs": [],
   "source": [
    "def validate_strings(generated_strings, base_lengths, operation_counts):\n",
    "    \"\"\"\n",
    "    Validates string generated are of optimal length\n",
    "    \"\"\"\n",
    "    inputs = list(zip(generated_strings, base_lengths, operation_counts))\n",
    "    for input in inputs:\n",
    "        if(len(input[0]) != (input[1] * int(2 ** input[2]))):\n",
    "            raise RuntimeError(f\"Generated string is not of optimal length\\nnew string: {input[0]}\\nnew string length: {len(input[0])}, expected length:{(input[1] * int(2 ** input[2]))}\\nbase string length: {input[1]}, operation count: {input[2]}\")\n",
    "    return True\n",
    "\n",
    "assert validate_strings(['ACACTGACTACTGACTGGTGACTACTGACTGG', 'TATTATACGCTATTATACGCGACGCGGACGCG'], [4, 4, 1], [3, 3])\n",
    "# assert validate_strings(['ACACTGACTACTGACTGGTGACTACTGACTGG'], [4], [4])"
   ]
  }
 ],
 "metadata": {
  "kernelspec": {
   "display_name": "Python 3.9.6 64-bit",
   "language": "python",
   "name": "python3"
  },
  "language_info": {
   "codemirror_mode": {
    "name": "ipython",
    "version": 3
   },
   "file_extension": ".py",
   "mimetype": "text/x-python",
   "name": "python",
   "nbconvert_exporter": "python",
   "pygments_lexer": "ipython3",
   "version": "3.9.6"
  },
  "orig_nbformat": 4,
  "vscode": {
   "interpreter": {
    "hash": "d62def225ca286fb69965cea4780c41bd930a5f677625d3cb02ff27f3d2fdcff"
   }
  }
 },
 "nbformat": 4,
 "nbformat_minor": 2
}
